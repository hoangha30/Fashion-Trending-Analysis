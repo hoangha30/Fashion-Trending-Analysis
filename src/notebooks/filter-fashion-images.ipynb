{
 "cells": [
  {
   "cell_type": "code",
   "execution_count": null,
   "metadata": {
    "execution": {
     "iopub.execute_input": "2025-05-18T01:31:25.107940Z",
     "iopub.status.busy": "2025-05-18T01:31:25.107476Z",
     "iopub.status.idle": "2025-05-18T01:32:59.197296Z",
     "shell.execute_reply": "2025-05-18T01:32:59.196568Z",
     "shell.execute_reply.started": "2025-05-18T01:31:25.107916Z"
    },
    "trusted": true
   },
   "outputs": [],
   "source": [
    "# 📦 1. Install OpenCLIP\n",
    "!pip install git+https://github.com/mlfoundations/open_clip.git\n",
    "\n",
    "# 🧠 2. Load model and tokenizer from Hugging Face\n",
    "import open_clip\n",
    "import torch\n",
    "from PIL import Image\n",
    "from pathlib import Path\n",
    "from tqdm import tqdm\n",
    "from shutil import copyfile\n",
    "\n",
    "device = \"cuda\" if torch.cuda.is_available() else \"cpu\"\n",
    "\n",
    "# Load Marqo FashionSigLIP from Hugging Face\n",
    "model_name = 'hf-hub:Marqo/marqo-fashionSigLIP'\n",
    "model, _, preprocess = open_clip.create_model_and_transforms(model_name)\n",
    "tokenizer = open_clip.get_tokenizer(model_name)\n",
    "\n",
    "model.to(device)\n",
    "model.eval()\n"
   ]
  },
  {
   "cell_type": "code",
   "execution_count": null,
   "metadata": {
    "execution": {
     "iopub.execute_input": "2025-05-18T01:32:59.198743Z",
     "iopub.status.busy": "2025-05-18T01:32:59.198515Z",
     "iopub.status.idle": "2025-05-18T01:32:59.204707Z",
     "shell.execute_reply": "2025-05-18T01:32:59.204162Z",
     "shell.execute_reply.started": "2025-05-18T01:32:59.198725Z"
    },
    "trusted": true
   },
   "outputs": [],
   "source": [
    "# 🔖 Fashion-related labels\n",
    "fashion_labels = [\n",
    "    \"white cotton t-shirt for men\", \"black long-sleeve shirt for men\", \"striped polo shirt\",\n",
    "    \"grey crew neck sweatshirt\", \"slim-fit dress shirt\", \"navy blue hoodie for men\", \"men’s sleeveless tank top\",\n",
    "    \"flannel checkered shirt\", \"men’s linen button-down shirt\", \"straight-leg blue jeans for men\",\n",
    "    \"khaki chino pants\", \"black cargo pants for men\", \"tailored wool trousers\", \"athletic jogger pants\",\n",
    "    \"denim shorts for men\", \"men’s board shorts\", \"pleated dress pants\", \"black leather biker jacket for men\",\n",
    "    \"men’s trench coat\", \"padded winter puffer jacket\", \"bomber jacket in olive green\", \"grey wool blazer\",\n",
    "    \"lightweight windbreaker\", \"denim jacket for men\", \"utility field jacket\", \"compression workout shirt\",\n",
    "    \"training shorts for men\", \"men’s running jacket\", \"gym stringer tank top\", \"moisture-wicking t-shirt\",\n",
    "    \"sports hoodie for men\", \"jogger set for men\", \"men’s yoga pants\", \"black leather oxford shoes\",\n",
    "    \"white sneakers for men\", \"brown suede loafers\", \"men’s running shoes\", \"casual slip-on shoes\",\n",
    "    \"black dress boots for men\", \"formal derby shoes\", \"leather sandals for men\", \"leather belt for men\",\n",
    "    \"classic wristwatch with metal band\", \"aviator sunglasses for men\", \"men’s beanie hat\",\n",
    "    \"baseball cap with logo\", \"crossbody sling bag for men\", \"men’s briefcase\", \"leather wallet for men\",\n",
    "    \"silk necktie\", \"patterned pocket square\", \"relaxed-fit cotton t-shirt for men\", \"slim-fit navy suit jacket\",\n",
    "    \"wool blend overcoat for men\", \"casual linen pants for men\", \"ribbed knit sweater for men\",\n",
    "    \"tapered black jeans for men\", \"heavyweight flannel overshirt\", \"men’s varsity jacket with patches\",\n",
    "    \"traditional Vietnamese áo dài for men\", \"men’s kurta with embroidery\", \"African print shirt for men\",\n",
    "    \"formal tuxedo with bow tie\", \"business suit in charcoal gray\", \"men’s wedding sherwani\",\n",
    "    \"tailored suit vest for men\"\n",
    "]\n",
    "\n",
    "# 🔖 Non-fashion-related labels\n",
    "non_fashion_labels = [\n",
    "    \"mountain landscape\", \"forest trail\", \"ocean waves\", \"houseplant in pot\", \"wild animals in field\",\n",
    "    \"plate of sushi\", \"latte with foam art\", \"chocolate cake slice\", \"glass of wine\",\n",
    "    \"smartphone on desk\", \"computer keyboard\", \"virtual reality headset\", \"gaming console controller\",\n",
    "    \"modern apartment building\", \"kitchen interior with cabinets\", \"historic church facade\",\n",
    "    \"city skyline at night\", \"wooden staircase design\",\n",
    "    \"person playing soccer\", \"child riding a bike\", \"people dancing at a party\", \"construction worker in uniform\",\n",
    "    \"red sports car\", \"wooden bookshelf\", \"toolbox with hammer\", \"ceramic mug on table\"\n",
    "]\n"
   ]
  },
  {
   "cell_type": "code",
   "execution_count": null,
   "metadata": {
    "execution": {
     "iopub.execute_input": "2025-05-18T01:32:59.205520Z",
     "iopub.status.busy": "2025-05-18T01:32:59.205276Z",
     "iopub.status.idle": "2025-05-18T01:32:59.226947Z",
     "shell.execute_reply": "2025-05-18T01:32:59.226226Z",
     "shell.execute_reply.started": "2025-05-18T01:32:59.205495Z"
    },
    "trusted": true
   },
   "outputs": [],
   "source": [
    "def is_fashion_image(image_path, threshold=0.8):\n",
    "    try:\n",
    "        image = preprocess(Image.open(image_path).convert(\"RGB\")).unsqueeze(0).to(device)\n",
    "    except Exception as e:\n",
    "        print(f\"Image error: {e}\")\n",
    "        return False\n",
    "\n",
    "    # Combine labels and tokenize\n",
    "    combined_labels = fashion_labels + non_fashion_labels\n",
    "    text_inputs = tokenizer(combined_labels).to(device)\n",
    "\n",
    "    with torch.no_grad(), torch.amp.autocast('cuda'):\n",
    "        image_features = model.encode_image(image)\n",
    "        text_features = model.encode_text(text_inputs)\n",
    "\n",
    "        image_features /= image_features.norm(dim=-1, keepdim=True)\n",
    "        text_features /= text_features.norm(dim=-1, keepdim=True)\n",
    "\n",
    "        probs = (100.0 * image_features @ text_features.T).softmax(dim=-1)\n",
    "\n",
    "    # Sum probabilities of all fashion-related labels\n",
    "    fashion_prob = probs[0, :len(fashion_labels)].sum()\n",
    "    return fashion_prob.item() >= threshold\n",
    "\n"
   ]
  },
  {
   "cell_type": "code",
   "execution_count": null,
   "metadata": {
    "execution": {
     "iopub.execute_input": "2025-05-18T01:32:59.228053Z",
     "iopub.status.busy": "2025-05-18T01:32:59.227791Z",
     "iopub.status.idle": "2025-05-18T02:29:23.443699Z",
     "shell.execute_reply": "2025-05-18T02:29:23.442975Z",
     "shell.execute_reply.started": "2025-05-18T01:32:59.228031Z"
    },
    "trusted": true
   },
   "outputs": [],
   "source": [
    "from pathlib import Path\n",
    "from shutil import copyfile\n",
    "import shutil\n",
    "from tqdm import tqdm\n",
    "\n",
    "# 🔧 Setup\n",
    "input_folder = Path(\"/kaggle/input/instagram-post-images\")\n",
    "fashion_folder = Path(\"/kaggle/working/fashion\")\n",
    "non_fashion_folder = Path(\"/kaggle/working/non_fashion\")\n",
    "\n",
    "fashion_folder.mkdir(parents=True, exist_ok=True)\n",
    "non_fashion_folder.mkdir(parents=True, exist_ok=True)\n",
    "\n",
    "# 📂 1. Lọc ảnh thời trang và giữ nguyên cấu trúc thư mục\n",
    "image_files = list(input_folder.rglob(\"*.jpg\"))\n",
    "print(f\"📸 Found {len(image_files)} images across subfolders\")\n",
    "\n",
    "kept = 0\n",
    "for img_path in tqdm(image_files, desc=\"🧵 Filtering fashion images\"):\n",
    "    if is_fashion_image(img_path):  # <-- Giữ nguyên hàm của bạn\n",
    "        relative_path = img_path.relative_to(input_folder)\n",
    "        dest_path = fashion_folder / relative_path\n",
    "        dest_path.parent.mkdir(parents=True, exist_ok=True)\n",
    "        copyfile(img_path, dest_path)\n",
    "        kept += 1\n",
    "\n",
    "print(f\"✅ Filtered {kept} fashion images to {fashion_folder}\")\n",
    "\n",
    "# 📦 2. Zip fashion folder\n",
    "shutil.make_archive(str(fashion_folder), 'zip', str(fashion_folder))\n",
    "print(\"✅ Zipped fashion images to /kaggle/working/fashion.zip\")\n",
    "\n",
    "# 📂 3. Lọc ảnh không phải thời trang bằng cách so sánh relative_path\n",
    "fashion_image_paths = {img.relative_to(fashion_folder) for img in fashion_folder.rglob(\"*.jpg\")}\n",
    "\n",
    "all_image_files = list(input_folder.rglob(\"*.jpg\"))\n",
    "non_fashion_count = 0\n",
    "\n",
    "for img_path in tqdm(all_image_files, desc=\"🧹 Filtering non-fashion images\"):\n",
    "    relative_path = img_path.relative_to(input_folder)\n",
    "    if relative_path not in fashion_image_paths:\n",
    "        dest_path = non_fashion_folder / relative_path\n",
    "        dest_path.parent.mkdir(parents=True, exist_ok=True)\n",
    "        copyfile(img_path, dest_path)\n",
    "        non_fashion_count += 1\n",
    "\n",
    "print(f\"✅ Saved {non_fashion_count} non-fashion images to {non_fashion_folder}\")\n",
    "\n",
    "# 📦 4. Zip non_fashion folder\n",
    "shutil.make_archive(str(non_fashion_folder), 'zip', str(non_fashion_folder))\n",
    "print(\"✅ Zipped non-fashion images to /kaggle/working/non_fashion.zip\")\n"
   ]
  }
 ],
 "metadata": {
  "kaggle": {
   "accelerator": "none",
   "dataSources": [
    {
     "datasetId": 7358044,
     "sourceId": 11721297,
     "sourceType": "datasetVersion"
    },
    {
     "modelId": 109261,
     "modelInstanceId": 85037,
     "sourceId": 101426,
     "sourceType": "modelInstanceVersion"
    }
   ],
   "dockerImageVersionId": 31012,
   "isGpuEnabled": false,
   "isInternetEnabled": true,
   "language": "python",
   "sourceType": "notebook"
  },
  "kernelspec": {
   "display_name": "Python 3",
   "language": "python",
   "name": "python3"
  },
  "language_info": {
   "codemirror_mode": {
    "name": "ipython",
    "version": 3
   },
   "file_extension": ".py",
   "mimetype": "text/x-python",
   "name": "python",
   "nbconvert_exporter": "python",
   "pygments_lexer": "ipython3",
   "version": "3.11.11"
  }
 },
 "nbformat": 4,
 "nbformat_minor": 4
}
